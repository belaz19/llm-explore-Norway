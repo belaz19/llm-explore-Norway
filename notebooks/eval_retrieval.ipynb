{
 "cells": [
  {
   "cell_type": "code",
   "execution_count": 1,
   "id": "6e6d9d63",
   "metadata": {},
   "outputs": [],
   "source": [
    "import pandas as pd"
   ]
  },
  {
   "cell_type": "markdown",
   "id": "01da5c79",
   "metadata": {},
   "source": [
    "## Ingestion"
   ]
  },
  {
   "cell_type": "code",
   "execution_count": 9,
   "id": "a6933adc",
   "metadata": {},
   "outputs": [],
   "source": [
    "df = pd.read_csv('../data/data.csv')"
   ]
  },
  {
   "cell_type": "code",
   "execution_count": 10,
   "id": "d345c64c",
   "metadata": {},
   "outputs": [
    {
     "data": {
      "text/html": [
       "<div>\n",
       "<style scoped>\n",
       "    .dataframe tbody tr th:only-of-type {\n",
       "        vertical-align: middle;\n",
       "    }\n",
       "\n",
       "    .dataframe tbody tr th {\n",
       "        vertical-align: top;\n",
       "    }\n",
       "\n",
       "    .dataframe thead th {\n",
       "        text-align: right;\n",
       "    }\n",
       "</style>\n",
       "<table border=\"1\" class=\"dataframe\">\n",
       "  <thead>\n",
       "    <tr style=\"text-align: right;\">\n",
       "      <th></th>\n",
       "      <th>id</th>\n",
       "      <th>attraction</th>\n",
       "      <th>activity_type</th>\n",
       "      <th>county</th>\n",
       "      <th>time_to_visit</th>\n",
       "      <th>description</th>\n",
       "    </tr>\n",
       "  </thead>\n",
       "  <tbody>\n",
       "    <tr>\n",
       "      <th>0</th>\n",
       "      <td>1</td>\n",
       "      <td>Geirangerfjord</td>\n",
       "      <td>Sightseeing / Nature</td>\n",
       "      <td>Møre og Romsdal</td>\n",
       "      <td>May, June, July, August, September</td>\n",
       "      <td>One of Norway’s most iconic fjords, surrounded...</td>\n",
       "    </tr>\n",
       "    <tr>\n",
       "      <th>1</th>\n",
       "      <td>2</td>\n",
       "      <td>Preikestolen (Pulpit Rock)</td>\n",
       "      <td>Hiking</td>\n",
       "      <td>Rogaland</td>\n",
       "      <td>May, June, July, August, September, October</td>\n",
       "      <td>A flat plateau on a steep cliff 604 meters abo...</td>\n",
       "    </tr>\n",
       "    <tr>\n",
       "      <th>2</th>\n",
       "      <td>3</td>\n",
       "      <td>Trolltunga</td>\n",
       "      <td>Hiking</td>\n",
       "      <td>Vestland</td>\n",
       "      <td>June, July, August, September</td>\n",
       "      <td>A famous rock ledge jutting horizontally out f...</td>\n",
       "    </tr>\n",
       "    <tr>\n",
       "      <th>3</th>\n",
       "      <td>4</td>\n",
       "      <td>Lofoten Islands</td>\n",
       "      <td>Sightseeing / Outdoor Activities</td>\n",
       "      <td>Nordland</td>\n",
       "      <td>June, July, August</td>\n",
       "      <td>An Arctic archipelago with dramatic peaks, san...</td>\n",
       "    </tr>\n",
       "    <tr>\n",
       "      <th>4</th>\n",
       "      <td>5</td>\n",
       "      <td>North Cape (Nordkapp)</td>\n",
       "      <td>Sightseeing</td>\n",
       "      <td>Troms og Finnmark</td>\n",
       "      <td>May, June, July, August</td>\n",
       "      <td>The northernmost point accessible by car in Eu...</td>\n",
       "    </tr>\n",
       "    <tr>\n",
       "      <th>...</th>\n",
       "      <td>...</td>\n",
       "      <td>...</td>\n",
       "      <td>...</td>\n",
       "      <td>...</td>\n",
       "      <td>...</td>\n",
       "      <td>...</td>\n",
       "    </tr>\n",
       "    <tr>\n",
       "      <th>145</th>\n",
       "      <td>146</td>\n",
       "      <td>Helgeland Coast</td>\n",
       "      <td>Sightseeing / Outdoor Activities</td>\n",
       "      <td>Nordland</td>\n",
       "      <td>June, July, August</td>\n",
       "      <td>A stunning stretch of coastline with thousands...</td>\n",
       "    </tr>\n",
       "    <tr>\n",
       "      <th>146</th>\n",
       "      <td>147</td>\n",
       "      <td>Hjørundfjord</td>\n",
       "      <td>Sightseeing / Nature</td>\n",
       "      <td>Møre og Romsdal</td>\n",
       "      <td>June, July, August, September</td>\n",
       "      <td>A scenic fjord surrounded by the Sunnmøre Alps...</td>\n",
       "    </tr>\n",
       "    <tr>\n",
       "      <th>147</th>\n",
       "      <td>148</td>\n",
       "      <td>Runde Bird Island</td>\n",
       "      <td>Wildlife / Sightseeing</td>\n",
       "      <td>Vestland</td>\n",
       "      <td>April, May, June, July, August</td>\n",
       "      <td>An island famous for seabird colonies, includi...</td>\n",
       "    </tr>\n",
       "    <tr>\n",
       "      <th>148</th>\n",
       "      <td>149</td>\n",
       "      <td>Fauske</td>\n",
       "      <td>Nature / Outdoor Activities</td>\n",
       "      <td>Nordland</td>\n",
       "      <td>June, July, August, September</td>\n",
       "      <td>A town near mountains and glaciers. Popular fo...</td>\n",
       "    </tr>\n",
       "    <tr>\n",
       "      <th>149</th>\n",
       "      <td>150</td>\n",
       "      <td>Romsdalsfjord</td>\n",
       "      <td>Sightseeing / Nature</td>\n",
       "      <td>Møre og Romsdal</td>\n",
       "      <td>May, June, July, August, September</td>\n",
       "      <td>A stunning fjord known for its steep cliffs, w...</td>\n",
       "    </tr>\n",
       "  </tbody>\n",
       "</table>\n",
       "<p>150 rows × 6 columns</p>\n",
       "</div>"
      ],
      "text/plain": [
       "      id                  attraction                     activity_type  \\\n",
       "0      1              Geirangerfjord              Sightseeing / Nature   \n",
       "1      2  Preikestolen (Pulpit Rock)                            Hiking   \n",
       "2      3                  Trolltunga                            Hiking   \n",
       "3      4             Lofoten Islands  Sightseeing / Outdoor Activities   \n",
       "4      5       North Cape (Nordkapp)                       Sightseeing   \n",
       "..   ...                         ...                               ...   \n",
       "145  146             Helgeland Coast  Sightseeing / Outdoor Activities   \n",
       "146  147                Hjørundfjord              Sightseeing / Nature   \n",
       "147  148           Runde Bird Island            Wildlife / Sightseeing   \n",
       "148  149                      Fauske       Nature / Outdoor Activities   \n",
       "149  150               Romsdalsfjord              Sightseeing / Nature   \n",
       "\n",
       "                county                                time_to_visit  \\\n",
       "0      Møre og Romsdal           May, June, July, August, September   \n",
       "1             Rogaland  May, June, July, August, September, October   \n",
       "2             Vestland                June, July, August, September   \n",
       "3             Nordland                           June, July, August   \n",
       "4    Troms og Finnmark                      May, June, July, August   \n",
       "..                 ...                                          ...   \n",
       "145           Nordland                           June, July, August   \n",
       "146    Møre og Romsdal                June, July, August, September   \n",
       "147           Vestland               April, May, June, July, August   \n",
       "148           Nordland                June, July, August, September   \n",
       "149    Møre og Romsdal           May, June, July, August, September   \n",
       "\n",
       "                                           description  \n",
       "0    One of Norway’s most iconic fjords, surrounded...  \n",
       "1    A flat plateau on a steep cliff 604 meters abo...  \n",
       "2    A famous rock ledge jutting horizontally out f...  \n",
       "3    An Arctic archipelago with dramatic peaks, san...  \n",
       "4    The northernmost point accessible by car in Eu...  \n",
       "..                                                 ...  \n",
       "145  A stunning stretch of coastline with thousands...  \n",
       "146  A scenic fjord surrounded by the Sunnmøre Alps...  \n",
       "147  An island famous for seabird colonies, includi...  \n",
       "148  A town near mountains and glaciers. Popular fo...  \n",
       "149  A stunning fjord known for its steep cliffs, w...  \n",
       "\n",
       "[150 rows x 6 columns]"
      ]
     },
     "execution_count": 10,
     "metadata": {},
     "output_type": "execute_result"
    }
   ],
   "source": [
    "df"
   ]
  },
  {
   "cell_type": "code",
   "execution_count": 15,
   "id": "334009cb",
   "metadata": {},
   "outputs": [
    {
     "data": {
      "text/plain": [
       "Index(['id', 'attraction', 'activity_type', 'county', 'time_to_visit',\n",
       "       'description'],\n",
       "      dtype='object')"
      ]
     },
     "execution_count": 15,
     "metadata": {},
     "output_type": "execute_result"
    }
   ],
   "source": [
    "df.columns"
   ]
  },
  {
   "cell_type": "code",
   "execution_count": 11,
   "id": "8a80c3a5",
   "metadata": {},
   "outputs": [],
   "source": [
    "documents = df.to_dict(orient='records')"
   ]
  },
  {
   "cell_type": "code",
   "execution_count": 12,
   "id": "4d81e67b",
   "metadata": {},
   "outputs": [
    {
     "data": {
      "text/plain": [
       "{'id': 1,\n",
       " 'attraction': 'Geirangerfjord',\n",
       " 'activity_type': 'Sightseeing / Nature',\n",
       " 'county': 'Møre og Romsdal',\n",
       " 'time_to_visit': 'May, June, July, August, September',\n",
       " 'description': 'One of Norway’s most iconic fjords, surrounded by steep cliffs, waterfalls, and small farms. It is a UNESCO World Heritage Site and offers boat tours, kayaking, and breathtaking viewpoints such as Dalsnibba.'}"
      ]
     },
     "execution_count": 12,
     "metadata": {},
     "output_type": "execute_result"
    }
   ],
   "source": [
    "documents[0]"
   ]
  },
  {
   "cell_type": "markdown",
   "id": "94652973",
   "metadata": {},
   "source": [
    "## Search"
   ]
  },
  {
   "cell_type": "code",
   "execution_count": 13,
   "id": "395542b1",
   "metadata": {},
   "outputs": [],
   "source": [
    "import minsearch"
   ]
  },
  {
   "cell_type": "code",
   "execution_count": 17,
   "id": "5c508df4",
   "metadata": {},
   "outputs": [],
   "source": [
    "index = minsearch.Index(\n",
    "    text_fields = ['attraction', 'activity_type', 'county', 'time_to_visit',\n",
    "       'description'],\n",
    "    keyword_fields=['id']\n",
    ")"
   ]
  },
  {
   "cell_type": "code",
   "execution_count": 18,
   "id": "8b2fc940",
   "metadata": {},
   "outputs": [
    {
     "data": {
      "text/plain": [
       "<minsearch.minsearch.Index at 0x7d7e5df38950>"
      ]
     },
     "execution_count": 18,
     "metadata": {},
     "output_type": "execute_result"
    }
   ],
   "source": [
    "index.fit(documents)"
   ]
  },
  {
   "cell_type": "code",
   "execution_count": 19,
   "id": "29904323",
   "metadata": {},
   "outputs": [],
   "source": [
    "def search(query):\n",
    "    boost = {}\n",
    "\n",
    "    results = index.search(\n",
    "        query=query,\n",
    "        filter_dict={},\n",
    "        boost_dict=boost,\n",
    "        num_results=5\n",
    "    )\n",
    "\n",
    "    return results"
   ]
  },
  {
   "cell_type": "code",
   "execution_count": 20,
   "id": "1292c144",
   "metadata": {},
   "outputs": [
    {
     "data": {
      "text/plain": [
       "[{'id': 34,\n",
       "  'attraction': 'Hemsedal',\n",
       "  'activity_type': 'Skiing / Outdoor Activities',\n",
       "  'county': 'Viken',\n",
       "  'time_to_visit': 'December, January, February, March, April',\n",
       "  'description': 'One of Norway’s top ski resorts. It offers alpine slopes, cross-country trails, and summer activities like hiking and mountain biking.'}]"
      ]
     },
     "execution_count": 20,
     "metadata": {},
     "output_type": "execute_result"
    }
   ],
   "source": [
    "search('Hemsedal')"
   ]
  },
  {
   "cell_type": "markdown",
   "id": "3d2ba785",
   "metadata": {},
   "source": [
    "## RAG flow"
   ]
  },
  {
   "cell_type": "markdown",
   "id": "b8578779",
   "metadata": {},
   "source": []
  }
 ],
 "metadata": {
  "kernelspec": {
   "display_name": "Python 3",
   "language": "python",
   "name": "python3"
  },
  "language_info": {
   "codemirror_mode": {
    "name": "ipython",
    "version": 3
   },
   "file_extension": ".py",
   "mimetype": "text/x-python",
   "name": "python",
   "nbconvert_exporter": "python",
   "pygments_lexer": "ipython3",
   "version": "3.12.1"
  }
 },
 "nbformat": 4,
 "nbformat_minor": 5
}
