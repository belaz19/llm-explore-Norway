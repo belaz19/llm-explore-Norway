{
 "cells": [
  {
   "cell_type": "code",
   "execution_count": 26,
   "id": "2b0f58ce",
   "metadata": {},
   "outputs": [],
   "source": [
    "import pandas as pd"
   ]
  },
  {
   "cell_type": "markdown",
   "id": "f4628c44",
   "metadata": {},
   "source": [
    "## Ingest ground truth"
   ]
  },
  {
   "cell_type": "code",
   "execution_count": 27,
   "id": "072dbb2f",
   "metadata": {},
   "outputs": [],
   "source": [
    "df_question = pd.read_csv('../data/ground-truth-data.csv')"
   ]
  },
  {
   "cell_type": "code",
   "execution_count": 28,
   "id": "e0300d63",
   "metadata": {},
   "outputs": [
    {
     "data": {
      "text/html": [
       "<div>\n",
       "<style scoped>\n",
       "    .dataframe tbody tr th:only-of-type {\n",
       "        vertical-align: middle;\n",
       "    }\n",
       "\n",
       "    .dataframe tbody tr th {\n",
       "        vertical-align: top;\n",
       "    }\n",
       "\n",
       "    .dataframe thead th {\n",
       "        text-align: right;\n",
       "    }\n",
       "</style>\n",
       "<table border=\"1\" class=\"dataframe\">\n",
       "  <thead>\n",
       "    <tr style=\"text-align: right;\">\n",
       "      <th></th>\n",
       "      <th>id</th>\n",
       "      <th>question</th>\n",
       "    </tr>\n",
       "  </thead>\n",
       "  <tbody>\n",
       "    <tr>\n",
       "      <th>0</th>\n",
       "      <td>1</td>\n",
       "      <td>In which county is Geirangerfjord located?</td>\n",
       "    </tr>\n",
       "    <tr>\n",
       "      <th>1</th>\n",
       "      <td>1</td>\n",
       "      <td>What months are best for visiting Geirangerfjord?</td>\n",
       "    </tr>\n",
       "    <tr>\n",
       "      <th>2</th>\n",
       "      <td>1</td>\n",
       "      <td>What activities are available at Geirangerfjor...</td>\n",
       "    </tr>\n",
       "    <tr>\n",
       "      <th>3</th>\n",
       "      <td>1</td>\n",
       "      <td>Is Geirangerfjord designated as a UNESCO World...</td>\n",
       "    </tr>\n",
       "    <tr>\n",
       "      <th>4</th>\n",
       "      <td>1</td>\n",
       "      <td>What natural features and viewpoints can I exp...</td>\n",
       "    </tr>\n",
       "    <tr>\n",
       "      <th>...</th>\n",
       "      <td>...</td>\n",
       "      <td>...</td>\n",
       "    </tr>\n",
       "    <tr>\n",
       "      <th>745</th>\n",
       "      <td>150</td>\n",
       "      <td>In which county is Romsdalsfjord located?</td>\n",
       "    </tr>\n",
       "    <tr>\n",
       "      <th>746</th>\n",
       "      <td>150</td>\n",
       "      <td>What months are best to visit Romsdalsfjord?</td>\n",
       "    </tr>\n",
       "    <tr>\n",
       "      <th>747</th>\n",
       "      <td>150</td>\n",
       "      <td>What outdoor activities are recommended at Rom...</td>\n",
       "    </tr>\n",
       "    <tr>\n",
       "      <th>748</th>\n",
       "      <td>150</td>\n",
       "      <td>What natural features and sights make Romsdals...</td>\n",
       "    </tr>\n",
       "    <tr>\n",
       "      <th>749</th>\n",
       "      <td>150</td>\n",
       "      <td>Are boat tours and kayaking available on Romsd...</td>\n",
       "    </tr>\n",
       "  </tbody>\n",
       "</table>\n",
       "<p>750 rows × 2 columns</p>\n",
       "</div>"
      ],
      "text/plain": [
       "      id                                           question\n",
       "0      1         In which county is Geirangerfjord located?\n",
       "1      1  What months are best for visiting Geirangerfjord?\n",
       "2      1  What activities are available at Geirangerfjor...\n",
       "3      1  Is Geirangerfjord designated as a UNESCO World...\n",
       "4      1  What natural features and viewpoints can I exp...\n",
       "..   ...                                                ...\n",
       "745  150          In which county is Romsdalsfjord located?\n",
       "746  150       What months are best to visit Romsdalsfjord?\n",
       "747  150  What outdoor activities are recommended at Rom...\n",
       "748  150  What natural features and sights make Romsdals...\n",
       "749  150  Are boat tours and kayaking available on Romsd...\n",
       "\n",
       "[750 rows x 2 columns]"
      ]
     },
     "execution_count": 28,
     "metadata": {},
     "output_type": "execute_result"
    }
   ],
   "source": [
    "df_question"
   ]
  },
  {
   "cell_type": "code",
   "execution_count": 29,
   "id": "24aa7c89",
   "metadata": {},
   "outputs": [],
   "source": [
    "ground_truth = df_question.to_dict(orient='records')"
   ]
  },
  {
   "cell_type": "code",
   "execution_count": 30,
   "id": "b0b243ed",
   "metadata": {},
   "outputs": [
    {
     "data": {
      "text/plain": [
       "{'id': 1, 'question': 'In which county is Geirangerfjord located?'}"
      ]
     },
     "execution_count": 30,
     "metadata": {},
     "output_type": "execute_result"
    }
   ],
   "source": [
    "ground_truth[0]"
   ]
  },
  {
   "cell_type": "markdown",
   "id": "08e64f33",
   "metadata": {},
   "source": [
    "## Check search vs truth"
   ]
  },
  {
   "cell_type": "code",
   "execution_count": 31,
   "id": "e208fb35",
   "metadata": {},
   "outputs": [],
   "source": [
    "df = pd.read_csv('../data/data.csv')"
   ]
  },
  {
   "cell_type": "code",
   "execution_count": 32,
   "id": "203ccece",
   "metadata": {},
   "outputs": [],
   "source": [
    "documents = df.to_dict(orient='records')"
   ]
  },
  {
   "cell_type": "code",
   "execution_count": 33,
   "id": "e5b74c80",
   "metadata": {},
   "outputs": [
    {
     "data": {
      "text/plain": [
       "{'id': 1,\n",
       " 'attraction': 'Geirangerfjord',\n",
       " 'activity_type': 'Sightseeing / Nature',\n",
       " 'county': 'Møre og Romsdal',\n",
       " 'time_to_visit': 'May, June, July, August, September',\n",
       " 'description': 'One of Norway’s most iconic fjords, surrounded by steep cliffs, waterfalls, and small farms. It is a UNESCO World Heritage Site and offers boat tours, kayaking, and breathtaking viewpoints such as Dalsnibba.'}"
      ]
     },
     "execution_count": 33,
     "metadata": {},
     "output_type": "execute_result"
    }
   ],
   "source": [
    "documents[0]"
   ]
  },
  {
   "cell_type": "code",
   "execution_count": 34,
   "id": "ebbe751f",
   "metadata": {},
   "outputs": [],
   "source": [
    "import minsearch"
   ]
  },
  {
   "cell_type": "code",
   "execution_count": 35,
   "id": "609e1135",
   "metadata": {},
   "outputs": [],
   "source": [
    "index = minsearch.Index(\n",
    "    text_fields = ['attraction', 'activity_type', 'county', 'time_to_visit',\n",
    "       'description'],\n",
    "    keyword_fields=['id']\n",
    ")"
   ]
  },
  {
   "cell_type": "code",
   "execution_count": 36,
   "id": "5710be7b",
   "metadata": {},
   "outputs": [
    {
     "data": {
      "text/plain": [
       "<minsearch.minsearch.Index at 0x7e56bed05370>"
      ]
     },
     "execution_count": 36,
     "metadata": {},
     "output_type": "execute_result"
    }
   ],
   "source": [
    "index.fit(documents)"
   ]
  },
  {
   "cell_type": "code",
   "execution_count": 37,
   "id": "793d440a",
   "metadata": {},
   "outputs": [],
   "source": [
    "def search(query):\n",
    "    boost = {\n",
    "        'attraction': 3,\n",
    "        'activity_type': 2,\n",
    "        'county': 2,\n",
    "        'time_to_visit': 1,\n",
    "        'description': 1\n",
    "    }\n",
    "\n",
    "    results = index.search(\n",
    "        query=query,\n",
    "        filter_dict={},\n",
    "        boost_dict=boost,\n",
    "        num_results=5\n",
    "    )\n",
    "\n",
    "    return results"
   ]
  },
  {
   "cell_type": "code",
   "execution_count": 38,
   "id": "1abe1572",
   "metadata": {},
   "outputs": [
    {
     "data": {
      "text/plain": [
       "[{'id': 150,\n",
       "  'attraction': 'Romsdalsfjord',\n",
       "  'activity_type': 'Sightseeing / Nature',\n",
       "  'county': 'Møre og Romsdal',\n",
       "  'time_to_visit': 'May, June, July, August, September',\n",
       "  'description': 'A stunning fjord known for its steep cliffs, waterfalls, and charming coastal villages. Ideal for boat tours, kayaking, and scenic photography.'},\n",
       " {'id': 17,\n",
       "  'attraction': 'Nidaros Cathedral',\n",
       "  'activity_type': 'Historical / Religious',\n",
       "  'county': 'Trøndelag',\n",
       "  'time_to_visit': 'January, February, March, April, May, June, July, August, September, October, November, December',\n",
       "  'description': 'Located in Trondheim, this Gothic cathedral is Norway’s most important church. Built over the burial site of Saint Olav, it is the northernmost medieval cathedral in the world.'},\n",
       " {'id': 107,\n",
       "  'attraction': 'Østfold Museum Halden',\n",
       "  'activity_type': 'Culture / History',\n",
       "  'county': 'Viken',\n",
       "  'time_to_visit': 'May, June, July, August, September',\n",
       "  'description': 'A regional museum with exhibitions on industrial heritage, local history, and traditional crafts from Østfold county.'},\n",
       " {'id': 94,\n",
       "  'attraction': 'Drøbak Christmas House',\n",
       "  'activity_type': 'Unique Attraction',\n",
       "  'county': 'Viken',\n",
       "  'time_to_visit': 'January, February, March, April, May, June, July, August, September, October, November, December',\n",
       "  'description': 'A festive shop and attraction dedicated to Christmas. Located in the town of Drøbak, it is also home to Norway’s official Santa Claus.'},\n",
       " {'id': 128,\n",
       "  'attraction': 'Ringve Music Museum',\n",
       "  'activity_type': 'Culture / Music',\n",
       "  'county': 'Trøndelag',\n",
       "  'time_to_visit': 'January, February, March, April, May, June, July, August, September, October, November, December',\n",
       "  'description': 'Norway’s national museum of music and instruments. Located in a historic estate in Trondheim, it combines exhibitions and concerts.'}]"
      ]
     },
     "execution_count": 38,
     "metadata": {},
     "output_type": "execute_result"
    }
   ],
   "source": [
    "search('In which county is Romsdalsfjord located?')"
   ]
  },
  {
   "cell_type": "code",
   "execution_count": 39,
   "id": "f12d3249",
   "metadata": {},
   "outputs": [],
   "source": [
    "from tqdm.auto import tqdm"
   ]
  },
  {
   "cell_type": "code",
   "execution_count": 40,
   "id": "7ecff46d",
   "metadata": {},
   "outputs": [],
   "source": [
    "def hit_rate(relevance_total):\n",
    "    cnt = 0\n",
    "\n",
    "    for line in relevance_total:\n",
    "        if True in line:\n",
    "            cnt = cnt + 1\n",
    "\n",
    "    return cnt / len(relevance_total)"
   ]
  },
  {
   "cell_type": "code",
   "execution_count": 41,
   "id": "752599db",
   "metadata": {},
   "outputs": [],
   "source": [
    "def mrr(relevance_total):\n",
    "    total_score = 0.0\n",
    "\n",
    "    for line in relevance_total:\n",
    "        for rank in range(len(line)):\n",
    "            if line[rank] == True:\n",
    "                total_score = total_score + 1 / (rank + 1)\n",
    "\n",
    "    return total_score / len(relevance_total)"
   ]
  },
  {
   "cell_type": "code",
   "execution_count": 42,
   "id": "f9ecf534",
   "metadata": {},
   "outputs": [],
   "source": [
    "def evaluate(ground_truth, search_function):\n",
    "    relevance_total = []\n",
    "\n",
    "    for q in tqdm(ground_truth):\n",
    "        doc_id = q['id']\n",
    "        results = search_function(q)\n",
    "        relevance = [d['id'] == doc_id for d in results]\n",
    "        relevance_total.append(relevance)\n",
    "\n",
    "    return {\n",
    "        'hit_rate': hit_rate(relevance_total),\n",
    "        'mrr': mrr(relevance_total),\n",
    "    }"
   ]
  },
  {
   "cell_type": "code",
   "execution_count": 43,
   "id": "f3aae337",
   "metadata": {},
   "outputs": [
    {
     "name": "stderr",
     "output_type": "stream",
     "text": [
      "100%|██████████| 750/750 [00:03<00:00, 241.03it/s]\n"
     ]
    },
    {
     "data": {
      "text/plain": [
       "{'hit_rate': 0.992, 'mrr': 0.9733777777777778}"
      ]
     },
     "execution_count": 43,
     "metadata": {},
     "output_type": "execute_result"
    }
   ],
   "source": [
    "evaluate(ground_truth, lambda q: search(q['question']))"
   ]
  },
  {
   "cell_type": "code",
   "execution_count": null,
   "id": "9a5c4fb9",
   "metadata": {},
   "outputs": [],
   "source": []
  }
 ],
 "metadata": {
  "kernelspec": {
   "display_name": "Python 3",
   "language": "python",
   "name": "python3"
  },
  "language_info": {
   "codemirror_mode": {
    "name": "ipython",
    "version": 3
   },
   "file_extension": ".py",
   "mimetype": "text/x-python",
   "name": "python",
   "nbconvert_exporter": "python",
   "pygments_lexer": "ipython3",
   "version": "3.12.1"
  }
 },
 "nbformat": 4,
 "nbformat_minor": 5
}
