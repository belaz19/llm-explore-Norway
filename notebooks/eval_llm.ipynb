{
 "cells": [
  {
   "cell_type": "code",
   "execution_count": 1,
   "id": "8e721a65",
   "metadata": {},
   "outputs": [],
   "source": [
    "import pandas as pd"
   ]
  },
  {
   "cell_type": "markdown",
   "id": "cef20da3",
   "metadata": {},
   "source": [
    "## RAG flow"
   ]
  },
  {
   "cell_type": "code",
   "execution_count": 2,
   "id": "abbd59c7",
   "metadata": {},
   "outputs": [],
   "source": [
    "df = pd.read_csv('../data/data.csv')"
   ]
  },
  {
   "cell_type": "code",
   "execution_count": 3,
   "id": "34006632",
   "metadata": {},
   "outputs": [],
   "source": [
    "documents = df.to_dict(orient='records')"
   ]
  },
  {
   "cell_type": "code",
   "execution_count": 4,
   "id": "ab5089f2",
   "metadata": {},
   "outputs": [
    {
     "data": {
      "text/plain": [
       "{'id': 1,\n",
       " 'attraction': 'Geirangerfjord',\n",
       " 'activity_type': 'Sightseeing / Nature',\n",
       " 'county': 'Møre og Romsdal',\n",
       " 'time_to_visit': 'May, June, July, August, September',\n",
       " 'description': 'One of Norway’s most iconic fjords, surrounded by steep cliffs, waterfalls, and small farms. It is a UNESCO World Heritage Site and offers boat tours, kayaking, and breathtaking viewpoints such as Dalsnibba.'}"
      ]
     },
     "execution_count": 4,
     "metadata": {},
     "output_type": "execute_result"
    }
   ],
   "source": [
    "documents[0]"
   ]
  },
  {
   "cell_type": "code",
   "execution_count": 5,
   "id": "f776c3e5",
   "metadata": {},
   "outputs": [],
   "source": [
    "import minsearch"
   ]
  },
  {
   "cell_type": "code",
   "execution_count": 6,
   "id": "7e7c1d0f",
   "metadata": {},
   "outputs": [],
   "source": [
    "index = minsearch.Index(\n",
    "    text_fields = ['attraction', 'activity_type', 'county', 'time_to_visit',\n",
    "       'description'],\n",
    "    keyword_fields=['id']\n",
    ")"
   ]
  },
  {
   "cell_type": "code",
   "execution_count": 7,
   "id": "0e1eebe8",
   "metadata": {},
   "outputs": [
    {
     "data": {
      "text/plain": [
       "<minsearch.minsearch.Index at 0x79b3172389b0>"
      ]
     },
     "execution_count": 7,
     "metadata": {},
     "output_type": "execute_result"
    }
   ],
   "source": [
    "index.fit(documents)"
   ]
  },
  {
   "cell_type": "code",
   "execution_count": 8,
   "id": "5713a1ea",
   "metadata": {},
   "outputs": [],
   "source": [
    "query = 'give me one hiking in Rogaland'"
   ]
  },
  {
   "cell_type": "code",
   "execution_count": 9,
   "id": "e07359f6",
   "metadata": {},
   "outputs": [],
   "source": [
    "def search(query):\n",
    "    boost = {\n",
    "        'attraction': 3,\n",
    "        'activity_type': 2,\n",
    "        'county': 2,\n",
    "        'time_to_visit': 1,\n",
    "        'description': 1\n",
    "    }\n",
    "\n",
    "    results = index.search(\n",
    "        query=query,\n",
    "        filter_dict={},\n",
    "        boost_dict=boost,\n",
    "        num_results=5\n",
    "    )\n",
    "\n",
    "    return results"
   ]
  },
  {
   "cell_type": "code",
   "execution_count": 10,
   "id": "9656ef43",
   "metadata": {},
   "outputs": [],
   "source": [
    "prompt_template = \"\"\"\n",
    "You're a tourist guide in Norway. Answer the QUESTION based on the CONTEXT from our attractions database.\n",
    "Use only the facts from the CONTEXT when answering the QUESTION.\n",
    "\n",
    "QUESTION: {question}\n",
    "\n",
    "CONTEXT:\n",
    "{context}\n",
    "\"\"\".strip()\n",
    "\n",
    "\n",
    "entry_template = \"\"\"\n",
    "attraction: {attraction}\n",
    "activity_type: {activity_type}\n",
    "county: {county}\n",
    "time_to_visit: {time_to_visit}\n",
    "description: {description}\n",
    "\"\"\".strip()\n",
    "\n",
    "def build_prompt(query, search_results):\n",
    "    context = \"\"\n",
    "\n",
    "    for doc in search_results:\n",
    "        context = context + entry_template.format(**doc) + \"\\n\\n\"\n",
    "\n",
    "    prompt = prompt_template.format(question=query, context=context).strip()\n",
    "    return prompt"
   ]
  },
  {
   "cell_type": "code",
   "execution_count": 13,
   "id": "087a7533",
   "metadata": {},
   "outputs": [],
   "source": [
    "search_results=search(query)"
   ]
  },
  {
   "cell_type": "code",
   "execution_count": 14,
   "id": "64b67d1c",
   "metadata": {},
   "outputs": [
    {
     "name": "stdout",
     "output_type": "stream",
     "text": [
      "You're a tourist guide in Norway. Answer the QUESTION based on the CONTEXT from our attractions database.\n",
      "Use only the facts from the CONTEXT when answering the QUESTION.\n",
      "\n",
      "QUESTION: give me one hiking in Rogaland\n",
      "\n",
      "CONTEXT:\n",
      "attraction: Preikestolen (Pulpit Rock)\n",
      "activity_type: Hiking\n",
      "county: Rogaland\n",
      "time_to_visit: May, June, July, August, September, October\n",
      "description: A flat plateau on a steep cliff 604 meters above Lysefjord. The hike takes 2–4 hours each way and rewards visitors with one of Norway’s most photographed panoramic views.\n",
      "\n",
      "attraction: Kjeragbolten\n",
      "activity_type: Hiking\n",
      "county: Rogaland\n",
      "time_to_visit: June, July, August, September\n",
      "description: A massive boulder wedged between cliffs 984 meters above Lysefjord. Adventurous hikers can step onto the rock for dramatic photos, while the hike also offers views of waterfalls and mountains.\n",
      "\n",
      "attraction: Kjerag Waterfalls\n",
      "activity_type: Nature / Hiking\n",
      "county: Rogaland\n",
      "time_to_visit: June, July, August, September\n",
      "description: Massive waterfalls cascading into Lysefjord. Often combined with the Kjeragbolten hike, they create dramatic scenery popular with nature enthusiasts.\n",
      "\n",
      "attraction: Egersund\n",
      "activity_type: Culture / Coastal Town\n",
      "county: Rogaland\n",
      "time_to_visit: June, July, August\n",
      "description: A small coastal town with colorful wooden houses, cultural festivals, and nearby hiking trails.\n",
      "\n",
      "attraction: Norwegian Petroleum Museum\n",
      "activity_type: Culture / History\n",
      "county: Rogaland\n",
      "time_to_visit: January, February, March, April, May, June, July, August, September, October, November, December\n",
      "description: A modern museum in Stavanger explaining the history of Norway’s oil industry. Includes interactive exhibitions and offshore equipment.\n"
     ]
    }
   ],
   "source": [
    "prompt = build_prompt(query, search_results)\n",
    "print(prompt)"
   ]
  },
  {
   "cell_type": "code",
   "execution_count": 15,
   "id": "8b199df6",
   "metadata": {},
   "outputs": [],
   "source": [
    "import openai\n",
    "from openai import OpenAI\n",
    "import os\n",
    "from dotenv import load_dotenv\n",
    "load_dotenv\n",
    "api_key = os.getenv(\"OPENAI_API_KEY\")\n",
    "client = OpenAI()"
   ]
  },
  {
   "cell_type": "code",
   "execution_count": 52,
   "id": "e6e34240",
   "metadata": {},
   "outputs": [],
   "source": [
    "def llm(prompt, model = 'gpt_5-mini'):\n",
    "    response = client.chat.completions.create(\n",
    "        model = model,\n",
    "        messages=[{\"role\": \"user\", \"content\": prompt}]\n",
    "    )\n",
    "\n",
    "    return response.choices[0].message.content"
   ]
  },
  {
   "cell_type": "code",
   "execution_count": 55,
   "id": "ab5e6e2f",
   "metadata": {},
   "outputs": [],
   "source": [
    "def rag(query, model='gpt-5-mini'):\n",
    "    search_results = search(query)\n",
    "    prompt = build_prompt(query, search_results)\n",
    "    answer = llm(prompt, model = model)\n",
    "    return answer"
   ]
  },
  {
   "cell_type": "code",
   "execution_count": 56,
   "id": "ed72e00e",
   "metadata": {},
   "outputs": [
    {
     "name": "stdout",
     "output_type": "stream",
     "text": [
      "From the attractions listed, take the Hurtigruten Coastal Voyage. It runs year‑round (including December) and offers breathtaking fjords plus northern lights in winter.\n",
      "\n",
      "Note: Balestrand is a picturesque village on the Sognefjord, but its listed best time to visit is May–September (not December).\n"
     ]
    }
   ],
   "source": [
    "answer = rag('I want to visit a beautifull fjord in Norway in December')\n",
    "print(answer)"
   ]
  },
  {
   "cell_type": "markdown",
   "id": "b34215d9",
   "metadata": {},
   "source": [
    "## test LLM as a judge"
   ]
  },
  {
   "cell_type": "code",
   "execution_count": 20,
   "id": "5652cbcb",
   "metadata": {},
   "outputs": [],
   "source": [
    "df_question = pd.read_csv('../data/ground-truth-data.csv')"
   ]
  },
  {
   "cell_type": "code",
   "execution_count": 21,
   "id": "1f92274d",
   "metadata": {},
   "outputs": [],
   "source": [
    "ground_truth = df_question.to_dict(orient='records')"
   ]
  },
  {
   "cell_type": "code",
   "execution_count": 22,
   "id": "c6086821",
   "metadata": {},
   "outputs": [
    {
     "data": {
      "text/plain": [
       "{'id': 1, 'question': 'In which county is Geirangerfjord located?'}"
      ]
     },
     "execution_count": 22,
     "metadata": {},
     "output_type": "execute_result"
    }
   ],
   "source": [
    "ground_truth[0]"
   ]
  },
  {
   "cell_type": "code",
   "execution_count": 23,
   "id": "8c0b8977",
   "metadata": {},
   "outputs": [
    {
     "data": {
      "text/plain": [
       "750"
      ]
     },
     "execution_count": 23,
     "metadata": {},
     "output_type": "execute_result"
    }
   ],
   "source": [
    "len(ground_truth)"
   ]
  },
  {
   "cell_type": "code",
   "execution_count": 35,
   "id": "60ed145f",
   "metadata": {},
   "outputs": [],
   "source": [
    "prompt_judge_template = \"\"\"\n",
    "You are an expert evaluator for a Retrieval-Augmented Generation (RAG) system.\n",
    "Your task is to analyze the relevance of the generated answer compared to the original answer provided.\n",
    "Based on the relevance and similarity of the generated answer to the original answer, you will classify\n",
    "it as \"NON_RELEVANT\", \"PARTLY_RELEVANT\", or \"RELEVANT\".\n",
    "\n",
    "Here is the data for evaluation:\n",
    "\n",
    "Question: {question}\n",
    "Generated Answer: {answer_llm}\n",
    "\n",
    "Please analyze the content and context of the generated answer in relation to the original\n",
    "answer and provide your evaluation in parsable JSON without using code blocks:\n",
    "\n",
    "{{\n",
    "  \"Relevance\": \"NON_RELEVANT\" | \"PARTLY_RELEVANT\" | \"RELEVANT\",\n",
    "  \"Explanation\": \"[Provide a brief explanation for your evaluation]\"\n",
    "}}\n",
    "\"\"\".strip()"
   ]
  },
  {
   "cell_type": "code",
   "execution_count": 26,
   "id": "5623c415",
   "metadata": {},
   "outputs": [],
   "source": [
    "record = ground_truth[0]\n",
    "question = record['question']\n",
    "answer_llm = rag(question)"
   ]
  },
  {
   "cell_type": "code",
   "execution_count": 30,
   "id": "feb40ded",
   "metadata": {},
   "outputs": [
    {
     "name": "stdout",
     "output_type": "stream",
     "text": [
      "Geirangerfjord is located in Møre og Romsdal county.\n"
     ]
    }
   ],
   "source": [
    "print(answer_llm)"
   ]
  },
  {
   "cell_type": "code",
   "execution_count": 36,
   "id": "0fc369ee",
   "metadata": {},
   "outputs": [
    {
     "name": "stdout",
     "output_type": "stream",
     "text": [
      "You are an expert evaluator for a Retrieval-Augmented Generation (RAG) system.\n",
      "Your task is to analyze the relevance of the generated answer compared to the original answer provided.\n",
      "Based on the relevance and similarity of the generated answer to the original answer, you will classify\n",
      "it as \"NON_RELEVANT\", \"PARTLY_RELEVANT\", or \"RELEVANT\".\n",
      "\n",
      "Here is the data for evaluation:\n",
      "\n",
      "Question: In which county is Geirangerfjord located?\n",
      "Generated Answer: Geirangerfjord is located in Møre og Romsdal county.\n",
      "\n",
      "Please analyze the content and context of the generated answer in relation to the original\n",
      "answer and provide your evaluation in parsable JSON without using code blocks:\n",
      "\n",
      "{\n",
      "  \"Relevance\": \"NON_RELEVANT\" | \"PARTLY_RELEVANT\" | \"RELEVANT\",\n",
      "  \"Explanation\": \"[Provide a brief explanation for your evaluation]\"\n",
      "}\n"
     ]
    }
   ],
   "source": [
    "prompt = prompt_judge_template.format(question = question, answer_llm = answer_llm)\n",
    "print(prompt)"
   ]
  },
  {
   "cell_type": "code",
   "execution_count": 32,
   "id": "b3b79d78",
   "metadata": {},
   "outputs": [
    {
     "data": {
      "text/plain": [
       "'{\\n  \"Relevance\": \"RELEVANT\",\\n  \"Explanation\": \"The generated answer directly and correctly names the county (Møre og Romsdal) where Geirangerfjord is located, matching the expected/original answer.\"\\n}'"
      ]
     },
     "execution_count": 32,
     "metadata": {},
     "output_type": "execute_result"
    }
   ],
   "source": [
    "llm(prompt)"
   ]
  },
  {
   "cell_type": "markdown",
   "id": "2edc9281",
   "metadata": {},
   "source": [
    "## Use LLM as a judge"
   ]
  },
  {
   "cell_type": "code",
   "execution_count": 33,
   "id": "9af3a8ea",
   "metadata": {},
   "outputs": [
    {
     "name": "stderr",
     "output_type": "stream",
     "text": [
      "/usr/local/python/3.12.1/lib/python3.12/site-packages/tqdm/auto.py:21: TqdmWarning: IProgress not found. Please update jupyter and ipywidgets. See https://ipywidgets.readthedocs.io/en/stable/user_install.html\n",
      "  from .autonotebook import tqdm as notebook_tqdm\n"
     ]
    }
   ],
   "source": [
    "from tqdm.auto import tqdm"
   ]
  },
  {
   "cell_type": "code",
   "execution_count": 57,
   "id": "d15b949a",
   "metadata": {},
   "outputs": [],
   "source": [
    "df_sample = df_question.sample(n=100, random_state=1)\n",
    "sample = df_sample.to_dict(orient='records')"
   ]
  },
  {
   "cell_type": "code",
   "execution_count": 58,
   "id": "3ae4673e",
   "metadata": {},
   "outputs": [
    {
     "data": {
      "text/plain": [
       "[{'id': 126, 'question': 'Which county is Åndalsnes in?'},\n",
       " {'id': 64, 'question': 'Does Drammensbadet have pools, slides and saunas?'},\n",
       " {'id': 68,\n",
       "  'question': 'How well preserved is Fredrikstad Fortress compared to other fortified towns in Europe?'},\n",
       " {'id': 120, 'question': 'Is Vangskyrkja still used for services today?'},\n",
       " {'id': 19, 'question': 'Which county is Tromsø in?'},\n",
       " {'id': 134,\n",
       "  'question': 'Which months are best to visit Sunndalsøra for hiking and nature activities?'},\n",
       " {'id': 53, 'question': 'What activities can you do at Gaustatoppen?'},\n",
       " {'id': 17, 'question': 'During which months can I visit Nidaros Cathedral?'},\n",
       " {'id': 118, 'question': 'Which county is Grimstad located in?'},\n",
       " {'id': 18, 'question': 'How long is Lysefjord?'},\n",
       " {'id': 114,\n",
       "  'question': 'Was Steinkjer Church built before or after World War II?'},\n",
       " {'id': 133,\n",
       "  'question': 'Are there opportunities to experience Sami culture in Malangen?'},\n",
       " {'id': 44, 'question': 'Which months are best to visit the Lyngen Alps?'},\n",
       " {'id': 38,\n",
       "  'question': 'Why is Kaupanger Stave Church considered architecturally significant?'},\n",
       " {'id': 4,\n",
       "  'question': 'Are traditional rorbuer cabins available for accommodation in the Lofoten Islands?'},\n",
       " {'id': 55,\n",
       "  'question': 'How old is Trondheim Old Town Bridge and does it have a nickname?'},\n",
       " {'id': 63,\n",
       "  'question': 'Is Kautokeino a center for reindeer herding and handicrafts?'},\n",
       " {'id': 76, 'question': 'What is Notodden Industrial Site known for?'},\n",
       " {'id': 13,\n",
       "  'question': 'What makes Vigeland Park unique among sculpture parks?'},\n",
       " {'id': 111,\n",
       "  'question': 'What type of attraction is Frognerseteren and what does it offer to visitors?'},\n",
       " {'id': 121, 'question': 'In which county is Kongsvinger Fortress located?'},\n",
       " {'id': 12,\n",
       "  'question': 'What popular hikes are in Rondane National Park, and what views does Rondeslottet offer?'},\n",
       " {'id': 98, 'question': 'When is the best time of year to visit Rallarvegen?'},\n",
       " {'id': 87, 'question': 'When is the best time to visit Kvitsøy?'},\n",
       " {'id': 127, 'question': 'What outdoor activities are popular in Tysfjord?'},\n",
       " {'id': 83, 'question': 'Is Oppdal a good destination for skiing?'},\n",
       " {'id': 10,\n",
       "  'question': 'What type of activity is the Atlantic Road classified as?'},\n",
       " {'id': 78,\n",
       "  'question': 'What cultural features and activities is Arendal known for?'},\n",
       " {'id': 109,\n",
       "  'question': 'Is Bymarka a forested recreational area and a local favorite for outdoor activities?'},\n",
       " {'id': 148,\n",
       "  'question': 'What visitor activities are available on Runde Bird Island?'},\n",
       " {'id': 112,\n",
       "  'question': 'Are there boat tours along the Swedish border at Halden Canal?'},\n",
       " {'id': 37,\n",
       "  'question': 'In which county is Dovrefjell-Sunndalsfjella National Park located?'},\n",
       " {'id': 63,\n",
       "  'question': 'When is the best time to visit Kautokeino to experience Sami traditions?'},\n",
       " {'id': 92, 'question': 'What months are best to visit Hallingdal River?'},\n",
       " {'id': 134, 'question': 'What outdoor activities can I do in Sunndalsøra?'},\n",
       " {'id': 58, 'question': 'Which county is Maihaugen located in?'},\n",
       " {'id': 102, 'question': 'Which county is Heddal Bygdetun located in?'},\n",
       " {'id': 149, 'question': 'Which county is Fauske located in?'},\n",
       " {'id': 38,\n",
       "  'question': 'Which months are best for visiting Kaupanger Stave Church?'},\n",
       " {'id': 21,\n",
       "  'question': \"Why is Aurlandsdalen Valley referred to as Norway's Grand Canyon?\"},\n",
       " {'id': 21, 'question': 'Which county is Aurlandsdalen Valley located in?'},\n",
       " {'id': 133, 'question': 'Is Malangen located near Tromsø?'},\n",
       " {'id': 2, 'question': 'Which months are best for visiting Preikestolen?'},\n",
       " {'id': 67, 'question': 'Which months are recommended for visiting Risør?'},\n",
       " {'id': 24, 'question': 'In which county is Lindesnes Lighthouse located?'},\n",
       " {'id': 14, 'question': 'What views does Akershus Fortress offer visitors?'},\n",
       " {'id': 52,\n",
       "  'question': 'What is the Drammen Spiral Tunnel and what views does it offer?'},\n",
       " {'id': 99, 'question': 'What is Skudeneshavn known for?'},\n",
       " {'id': 105, 'question': 'What outdoor activities can I do at Trysil?'},\n",
       " {'id': 98, 'question': 'Which counties does Rallarvegen run through?'},\n",
       " {'id': 81, 'question': 'What months are best to visit Balestrand?'},\n",
       " {'id': 106,\n",
       "  'question': \"Can visitors explore Selbu's rose knitting pattern and local textile traditions?\"},\n",
       " {'id': 41,\n",
       "  'question': 'What months are recommended to visit Kirkenes Snowhotel?'},\n",
       " {'id': 54,\n",
       "  'question': 'Does the Munch Museum showcase \"The Scream\" and other masterpieces?'},\n",
       " {'id': 144, 'question': 'When is the best time of year to visit Bømlo?'},\n",
       " {'id': 17,\n",
       "  'question': 'What architectural style is Nidaros Cathedral built in?'},\n",
       " {'id': 79,\n",
       "  'question': 'What type of activities and visitors does Tvedestrand Book Town attract?'},\n",
       " {'id': 76,\n",
       "  'question': 'Why is Notodden Industrial Site designated a UNESCO World Heritage Site?'},\n",
       " {'id': 83, 'question': 'Which county is Oppdal in?'},\n",
       " {'id': 87,\n",
       "  'question': 'How close is Kvitsøy to Stavanger and what can visitors do there?'},\n",
       " {'id': 30,\n",
       "  'question': 'What visual features and types of buildings make Ålesund stand out for visitors?'},\n",
       " {'id': 12, 'question': 'Which county is Rondane National Park in?'},\n",
       " {'id': 58,\n",
       "  'question': \"Is Maihaugen considered one of Europe's largest open-air museums?\"},\n",
       " {'id': 101, 'question': 'When is the best time to visit Numedal Valley?'},\n",
       " {'id': 148, 'question': 'Which county is Runde Bird Island located in?'},\n",
       " {'id': 96,\n",
       "  'question': 'What is architecturally notable about Kilden Performing Arts Centre?'},\n",
       " {'id': 5, 'question': 'What type of activity is North Cape best suited for?'},\n",
       " {'id': 40,\n",
       "  'question': 'What kind of activity is Besseggen Ridge suitable for?'},\n",
       " {'id': 120, 'question': 'In which county is Vangskyrkja located?'},\n",
       " {'id': 137,\n",
       "  'question': \"What makes Stadlandet considered Norway's surfing capital?\"},\n",
       " {'id': 135, 'question': 'Which county is Levanger located in?'},\n",
       " {'id': 132, 'question': 'When is the best time of year to visit Sogndal?'},\n",
       " {'id': 31,\n",
       "  'question': 'What scenery and features can visitors expect at Kjerag Waterfalls?'},\n",
       " {'id': 131, 'question': 'Which county is Farsund in?'},\n",
       " {'id': 116, 'question': 'How can visitors access the island from Sandvika?'},\n",
       " {'id': 65, 'question': 'What activities can visitors do in Odda?'},\n",
       " {'id': 41, 'question': 'Is the Kirkenes Snowhotel rebuilt each winter?'},\n",
       " {'id': 146,\n",
       "  'question': 'When is the best time to visit the Helgeland Coast?'},\n",
       " {'id': 119, 'question': 'What outdoor activities is Ørsta known for?'},\n",
       " {'id': 11, 'question': 'How high above Lysefjord is Kjeragbolten?'},\n",
       " {'id': 106,\n",
       "  'question': 'What cultural or historical activities can I do in Selbu?'},\n",
       " {'id': 126, 'question': 'What months are best for visiting Åndalsnes?'},\n",
       " {'id': 25,\n",
       "  'question': 'How old are the Alta Rock Carvings and what is their historical significance?'},\n",
       " {'id': 100,\n",
       "  'question': 'Which months are best for visiting Kongsberg Silver Mines?'},\n",
       " {'id': 45,\n",
       "  'question': 'Is summer skiing offered in Nordfjord, and if so where?'},\n",
       " {'id': 86,\n",
       "  'question': 'What aspects of Hallingdal Valley life does the Hallingdal Museum showcase?'},\n",
       " {'id': 134,\n",
       "  'question': 'Why is Sunndalsøra a good base for exploring Dovrefjell-Sunndalsfjella National Park?'},\n",
       " {'id': 36, 'question': 'What type of attraction is Henningsvær?'},\n",
       " {'id': 38, 'question': 'How old is Kaupanger Stave Church?'},\n",
       " {'id': 32,\n",
       "  'question': 'What kinds of exhibits can visitors expect at the Narvik War Museum?'},\n",
       " {'id': 88,\n",
       "  'question': 'What county is Sørlandet Zoo and Amusement Park located in?'},\n",
       " {'id': 13, 'question': 'In which county is Vigeland Park located?'},\n",
       " {'id': 43,\n",
       "  'question': 'Is Heddal Stave Church considered a historical or religious attraction?'},\n",
       " {'id': 109,\n",
       "  'question': 'Which county is Bymarka in, and is it located near Trondheim?'},\n",
       " {'id': 77, 'question': 'Which months are best for visiting Vøringfossen?'},\n",
       " {'id': 120, 'question': 'From which century does Vangskyrkja date?'},\n",
       " {'id': 1,\n",
       "  'question': 'Is Geirangerfjord designated as a UNESCO World Heritage Site?'},\n",
       " {'id': 125,\n",
       "  'question': 'During which months can I visit Fjellheisen Tromsø?'},\n",
       " {'id': 89, 'question': 'Which months are best for visiting Mjøsa Lake?'},\n",
       " {'id': 27,\n",
       "  'question': 'Does the Rondane Scenic Route pass through Rondane National Park?'}]"
      ]
     },
     "execution_count": 58,
     "metadata": {},
     "output_type": "execute_result"
    }
   ],
   "source": [
    "sample"
   ]
  },
  {
   "cell_type": "code",
   "execution_count": 47,
   "id": "4b626dd9",
   "metadata": {},
   "outputs": [],
   "source": [
    "import json"
   ]
  },
  {
   "cell_type": "code",
   "execution_count": 86,
   "id": "2d2ec9ae",
   "metadata": {},
   "outputs": [],
   "source": [
    "evaluations = []"
   ]
  },
  {
   "cell_type": "code",
   "execution_count": 87,
   "id": "8d311abe",
   "metadata": {},
   "outputs": [
    {
     "name": "stderr",
     "output_type": "stream",
     "text": [
      "100%|██████████| 100/100 [13:45<00:00,  8.26s/it]\n"
     ]
    }
   ],
   "source": [
    "for record in tqdm(sample):\n",
    "    question = record['question']\n",
    "    answer_llm = rag(question, model='gpt-5-nano')\n",
    "\n",
    "    prompt = prompt_judge_template.format(question=question, answer_llm=answer_llm)\n",
    "    evaluation = llm(prompt, model='gpt-5-mini')\n",
    "    evaluation = json.loads(evaluation)\n",
    "    \n",
    "    evaluations.append((record, answer_llm, evaluation))\n"
   ]
  },
  {
   "cell_type": "code",
   "execution_count": 88,
   "id": "b64e1cdf",
   "metadata": {},
   "outputs": [],
   "source": [
    "df_eval = pd.DataFrame(evaluations, columns=['record', 'answer', 'evaluation'])"
   ]
  },
  {
   "cell_type": "code",
   "execution_count": 89,
   "id": "e9d3780b",
   "metadata": {},
   "outputs": [
    {
     "data": {
      "text/html": [
       "<div>\n",
       "<style scoped>\n",
       "    .dataframe tbody tr th:only-of-type {\n",
       "        vertical-align: middle;\n",
       "    }\n",
       "\n",
       "    .dataframe tbody tr th {\n",
       "        vertical-align: top;\n",
       "    }\n",
       "\n",
       "    .dataframe thead th {\n",
       "        text-align: right;\n",
       "    }\n",
       "</style>\n",
       "<table border=\"1\" class=\"dataframe\">\n",
       "  <thead>\n",
       "    <tr style=\"text-align: right;\">\n",
       "      <th></th>\n",
       "      <th>record</th>\n",
       "      <th>answer</th>\n",
       "      <th>evaluation</th>\n",
       "    </tr>\n",
       "  </thead>\n",
       "  <tbody>\n",
       "    <tr>\n",
       "      <th>0</th>\n",
       "      <td>{'id': 126, 'question': 'Which county is Åndal...</td>\n",
       "      <td>Møre og Romsdal.</td>\n",
       "      <td>{'Relevance': 'RELEVANT', 'Explanation': 'The ...</td>\n",
       "    </tr>\n",
       "    <tr>\n",
       "      <th>1</th>\n",
       "      <td>{'id': 64, 'question': 'Does Drammensbadet hav...</td>\n",
       "      <td>Yes. Drammensbadet is described as Norway’s la...</td>\n",
       "      <td>{'Relevance': 'RELEVANT', 'Explanation': 'The ...</td>\n",
       "    </tr>\n",
       "    <tr>\n",
       "      <th>2</th>\n",
       "      <td>{'id': 68, 'question': 'How well preserved is ...</td>\n",
       "      <td>Fredrikstad Fortress is one of Europe’s best-p...</td>\n",
       "      <td>{'Relevance': 'RELEVANT', 'Explanation': 'The ...</td>\n",
       "    </tr>\n",
       "    <tr>\n",
       "      <th>3</th>\n",
       "      <td>{'id': 120, 'question': 'Is Vangskyrkja still ...</td>\n",
       "      <td>Yes. Vangskyrkja is still in use today; it is ...</td>\n",
       "      <td>{'Relevance': 'RELEVANT', 'Explanation': 'The ...</td>\n",
       "    </tr>\n",
       "    <tr>\n",
       "      <th>4</th>\n",
       "      <td>{'id': 19, 'question': 'Which county is Tromsø...</td>\n",
       "      <td>Troms og Finnmark.</td>\n",
       "      <td>{'Relevance': 'RELEVANT', 'Explanation': 'The ...</td>\n",
       "    </tr>\n",
       "    <tr>\n",
       "      <th>...</th>\n",
       "      <td>...</td>\n",
       "      <td>...</td>\n",
       "      <td>...</td>\n",
       "    </tr>\n",
       "    <tr>\n",
       "      <th>95</th>\n",
       "      <td>{'id': 120, 'question': 'From which century do...</td>\n",
       "      <td>The Vangskyrkja dates from the 13th century.</td>\n",
       "      <td>{'Relevance': 'RELEVANT', 'Explanation': 'The ...</td>\n",
       "    </tr>\n",
       "    <tr>\n",
       "      <th>96</th>\n",
       "      <td>{'id': 1, 'question': 'Is Geirangerfjord desig...</td>\n",
       "      <td>Yes. Geirangerfjord is a UNESCO World Heritage...</td>\n",
       "      <td>{'Relevance': 'RELEVANT', 'Explanation': 'The ...</td>\n",
       "    </tr>\n",
       "    <tr>\n",
       "      <th>97</th>\n",
       "      <td>{'id': 125, 'question': 'During which months c...</td>\n",
       "      <td>January, February, March, April, May, June, Ju...</td>\n",
       "      <td>{'Relevance': 'RELEVANT', 'Explanation': 'The ...</td>\n",
       "    </tr>\n",
       "    <tr>\n",
       "      <th>98</th>\n",
       "      <td>{'id': 89, 'question': 'Which months are best ...</td>\n",
       "      <td>June, July, August, and September.</td>\n",
       "      <td>{'Relevance': 'RELEVANT', 'Explanation': 'The ...</td>\n",
       "    </tr>\n",
       "    <tr>\n",
       "      <th>99</th>\n",
       "      <td>{'id': 27, 'question': 'Does the Rondane Sceni...</td>\n",
       "      <td>Yes. The Rondane Scenic Route passes through p...</td>\n",
       "      <td>{'Relevance': 'RELEVANT', 'Explanation': 'The ...</td>\n",
       "    </tr>\n",
       "  </tbody>\n",
       "</table>\n",
       "<p>100 rows × 3 columns</p>\n",
       "</div>"
      ],
      "text/plain": [
       "                                               record  \\\n",
       "0   {'id': 126, 'question': 'Which county is Åndal...   \n",
       "1   {'id': 64, 'question': 'Does Drammensbadet hav...   \n",
       "2   {'id': 68, 'question': 'How well preserved is ...   \n",
       "3   {'id': 120, 'question': 'Is Vangskyrkja still ...   \n",
       "4   {'id': 19, 'question': 'Which county is Tromsø...   \n",
       "..                                                ...   \n",
       "95  {'id': 120, 'question': 'From which century do...   \n",
       "96  {'id': 1, 'question': 'Is Geirangerfjord desig...   \n",
       "97  {'id': 125, 'question': 'During which months c...   \n",
       "98  {'id': 89, 'question': 'Which months are best ...   \n",
       "99  {'id': 27, 'question': 'Does the Rondane Sceni...   \n",
       "\n",
       "                                               answer  \\\n",
       "0                                    Møre og Romsdal.   \n",
       "1   Yes. Drammensbadet is described as Norway’s la...   \n",
       "2   Fredrikstad Fortress is one of Europe’s best-p...   \n",
       "3   Yes. Vangskyrkja is still in use today; it is ...   \n",
       "4                                  Troms og Finnmark.   \n",
       "..                                                ...   \n",
       "95       The Vangskyrkja dates from the 13th century.   \n",
       "96  Yes. Geirangerfjord is a UNESCO World Heritage...   \n",
       "97  January, February, March, April, May, June, Ju...   \n",
       "98                 June, July, August, and September.   \n",
       "99  Yes. The Rondane Scenic Route passes through p...   \n",
       "\n",
       "                                           evaluation  \n",
       "0   {'Relevance': 'RELEVANT', 'Explanation': 'The ...  \n",
       "1   {'Relevance': 'RELEVANT', 'Explanation': 'The ...  \n",
       "2   {'Relevance': 'RELEVANT', 'Explanation': 'The ...  \n",
       "3   {'Relevance': 'RELEVANT', 'Explanation': 'The ...  \n",
       "4   {'Relevance': 'RELEVANT', 'Explanation': 'The ...  \n",
       "..                                                ...  \n",
       "95  {'Relevance': 'RELEVANT', 'Explanation': 'The ...  \n",
       "96  {'Relevance': 'RELEVANT', 'Explanation': 'The ...  \n",
       "97  {'Relevance': 'RELEVANT', 'Explanation': 'The ...  \n",
       "98  {'Relevance': 'RELEVANT', 'Explanation': 'The ...  \n",
       "99  {'Relevance': 'RELEVANT', 'Explanation': 'The ...  \n",
       "\n",
       "[100 rows x 3 columns]"
      ]
     },
     "execution_count": 89,
     "metadata": {},
     "output_type": "execute_result"
    }
   ],
   "source": [
    "df_eval"
   ]
  },
  {
   "cell_type": "code",
   "execution_count": 90,
   "id": "d3eaaeed",
   "metadata": {},
   "outputs": [],
   "source": [
    "df_eval['id'] = df_eval.record.apply(lambda d: d['id'])\n",
    "df_eval['question'] = df_eval.record.apply(lambda d: d['question'])\n",
    "df_eval['relevance'] = df_eval.evaluation.apply(lambda d: d['Relevance'])\n",
    "df_eval['explanation'] = df_eval.evaluation.apply(lambda d: d['Explanation'])\n",
    "del df_eval['record']\n",
    "del df_eval['evaluation']"
   ]
  },
  {
   "cell_type": "code",
   "execution_count": 91,
   "id": "11358ddd",
   "metadata": {},
   "outputs": [
    {
     "data": {
      "text/html": [
       "<div>\n",
       "<style scoped>\n",
       "    .dataframe tbody tr th:only-of-type {\n",
       "        vertical-align: middle;\n",
       "    }\n",
       "\n",
       "    .dataframe tbody tr th {\n",
       "        vertical-align: top;\n",
       "    }\n",
       "\n",
       "    .dataframe thead th {\n",
       "        text-align: right;\n",
       "    }\n",
       "</style>\n",
       "<table border=\"1\" class=\"dataframe\">\n",
       "  <thead>\n",
       "    <tr style=\"text-align: right;\">\n",
       "      <th></th>\n",
       "      <th>answer</th>\n",
       "      <th>id</th>\n",
       "      <th>question</th>\n",
       "      <th>relevance</th>\n",
       "      <th>explanation</th>\n",
       "    </tr>\n",
       "  </thead>\n",
       "  <tbody>\n",
       "    <tr>\n",
       "      <th>0</th>\n",
       "      <td>Møre og Romsdal.</td>\n",
       "      <td>126</td>\n",
       "      <td>Which county is Åndalsnes in?</td>\n",
       "      <td>RELEVANT</td>\n",
       "      <td>The generated answer correctly names the count...</td>\n",
       "    </tr>\n",
       "    <tr>\n",
       "      <th>1</th>\n",
       "      <td>Yes. Drammensbadet is described as Norway’s la...</td>\n",
       "      <td>64</td>\n",
       "      <td>Does Drammensbadet have pools, slides and saunas?</td>\n",
       "      <td>RELEVANT</td>\n",
       "      <td>The generated answer directly affirms that Dra...</td>\n",
       "    </tr>\n",
       "    <tr>\n",
       "      <th>2</th>\n",
       "      <td>Fredrikstad Fortress is one of Europe’s best-p...</td>\n",
       "      <td>68</td>\n",
       "      <td>How well preserved is Fredrikstad Fortress com...</td>\n",
       "      <td>RELEVANT</td>\n",
       "      <td>The generated answer directly addresses the co...</td>\n",
       "    </tr>\n",
       "    <tr>\n",
       "      <th>3</th>\n",
       "      <td>Yes. Vangskyrkja is still in use today; it is ...</td>\n",
       "      <td>120</td>\n",
       "      <td>Is Vangskyrkja still used for services today?</td>\n",
       "      <td>RELEVANT</td>\n",
       "      <td>The generated answer directly affirms that Van...</td>\n",
       "    </tr>\n",
       "    <tr>\n",
       "      <th>4</th>\n",
       "      <td>Troms og Finnmark.</td>\n",
       "      <td>19</td>\n",
       "      <td>Which county is Tromsø in?</td>\n",
       "      <td>RELEVANT</td>\n",
       "      <td>The generated answer correctly identifies Trom...</td>\n",
       "    </tr>\n",
       "    <tr>\n",
       "      <th>...</th>\n",
       "      <td>...</td>\n",
       "      <td>...</td>\n",
       "      <td>...</td>\n",
       "      <td>...</td>\n",
       "      <td>...</td>\n",
       "    </tr>\n",
       "    <tr>\n",
       "      <th>95</th>\n",
       "      <td>The Vangskyrkja dates from the 13th century.</td>\n",
       "      <td>120</td>\n",
       "      <td>From which century does Vangskyrkja date?</td>\n",
       "      <td>RELEVANT</td>\n",
       "      <td>The generated answer states that Vangskyrkja d...</td>\n",
       "    </tr>\n",
       "    <tr>\n",
       "      <th>96</th>\n",
       "      <td>Yes. Geirangerfjord is a UNESCO World Heritage...</td>\n",
       "      <td>1</td>\n",
       "      <td>Is Geirangerfjord designated as a UNESCO World...</td>\n",
       "      <td>RELEVANT</td>\n",
       "      <td>The generated answer directly and correctly af...</td>\n",
       "    </tr>\n",
       "    <tr>\n",
       "      <th>97</th>\n",
       "      <td>January, February, March, April, May, June, Ju...</td>\n",
       "      <td>125</td>\n",
       "      <td>During which months can I visit Fjellheisen Tr...</td>\n",
       "      <td>RELEVANT</td>\n",
       "      <td>The generated answer directly addresses the qu...</td>\n",
       "    </tr>\n",
       "    <tr>\n",
       "      <th>98</th>\n",
       "      <td>June, July, August, and September.</td>\n",
       "      <td>89</td>\n",
       "      <td>Which months are best for visiting Mjøsa Lake?</td>\n",
       "      <td>RELEVANT</td>\n",
       "      <td>The generated answer directly and succinctly l...</td>\n",
       "    </tr>\n",
       "    <tr>\n",
       "      <th>99</th>\n",
       "      <td>Yes. The Rondane Scenic Route passes through p...</td>\n",
       "      <td>27</td>\n",
       "      <td>Does the Rondane Scenic Route pass through Ron...</td>\n",
       "      <td>RELEVANT</td>\n",
       "      <td>The generated answer directly and concisely af...</td>\n",
       "    </tr>\n",
       "  </tbody>\n",
       "</table>\n",
       "<p>100 rows × 5 columns</p>\n",
       "</div>"
      ],
      "text/plain": [
       "                                               answer   id  \\\n",
       "0                                    Møre og Romsdal.  126   \n",
       "1   Yes. Drammensbadet is described as Norway’s la...   64   \n",
       "2   Fredrikstad Fortress is one of Europe’s best-p...   68   \n",
       "3   Yes. Vangskyrkja is still in use today; it is ...  120   \n",
       "4                                  Troms og Finnmark.   19   \n",
       "..                                                ...  ...   \n",
       "95       The Vangskyrkja dates from the 13th century.  120   \n",
       "96  Yes. Geirangerfjord is a UNESCO World Heritage...    1   \n",
       "97  January, February, March, April, May, June, Ju...  125   \n",
       "98                 June, July, August, and September.   89   \n",
       "99  Yes. The Rondane Scenic Route passes through p...   27   \n",
       "\n",
       "                                             question relevance  \\\n",
       "0                       Which county is Åndalsnes in?  RELEVANT   \n",
       "1   Does Drammensbadet have pools, slides and saunas?  RELEVANT   \n",
       "2   How well preserved is Fredrikstad Fortress com...  RELEVANT   \n",
       "3       Is Vangskyrkja still used for services today?  RELEVANT   \n",
       "4                          Which county is Tromsø in?  RELEVANT   \n",
       "..                                                ...       ...   \n",
       "95          From which century does Vangskyrkja date?  RELEVANT   \n",
       "96  Is Geirangerfjord designated as a UNESCO World...  RELEVANT   \n",
       "97  During which months can I visit Fjellheisen Tr...  RELEVANT   \n",
       "98     Which months are best for visiting Mjøsa Lake?  RELEVANT   \n",
       "99  Does the Rondane Scenic Route pass through Ron...  RELEVANT   \n",
       "\n",
       "                                          explanation  \n",
       "0   The generated answer correctly names the count...  \n",
       "1   The generated answer directly affirms that Dra...  \n",
       "2   The generated answer directly addresses the co...  \n",
       "3   The generated answer directly affirms that Van...  \n",
       "4   The generated answer correctly identifies Trom...  \n",
       "..                                                ...  \n",
       "95  The generated answer states that Vangskyrkja d...  \n",
       "96  The generated answer directly and correctly af...  \n",
       "97  The generated answer directly addresses the qu...  \n",
       "98  The generated answer directly and succinctly l...  \n",
       "99  The generated answer directly and concisely af...  \n",
       "\n",
       "[100 rows x 5 columns]"
      ]
     },
     "execution_count": 91,
     "metadata": {},
     "output_type": "execute_result"
    }
   ],
   "source": [
    "df_eval"
   ]
  },
  {
   "cell_type": "code",
   "execution_count": 92,
   "id": "3c3136a0",
   "metadata": {},
   "outputs": [
    {
     "data": {
      "text/plain": [
       "relevance\n",
       "RELEVANT           82\n",
       "PARTLY_RELEVANT    15\n",
       "NON_RELEVANT        3\n",
       "Name: count, dtype: int64"
      ]
     },
     "execution_count": 92,
     "metadata": {},
     "output_type": "execute_result"
    }
   ],
   "source": [
    "df_eval.relevance.value_counts()"
   ]
  },
  {
   "cell_type": "code",
   "execution_count": 93,
   "id": "b16b1f8a",
   "metadata": {},
   "outputs": [
    {
     "data": {
      "text/html": [
       "<div>\n",
       "<style scoped>\n",
       "    .dataframe tbody tr th:only-of-type {\n",
       "        vertical-align: middle;\n",
       "    }\n",
       "\n",
       "    .dataframe tbody tr th {\n",
       "        vertical-align: top;\n",
       "    }\n",
       "\n",
       "    .dataframe thead th {\n",
       "        text-align: right;\n",
       "    }\n",
       "</style>\n",
       "<table border=\"1\" class=\"dataframe\">\n",
       "  <thead>\n",
       "    <tr style=\"text-align: right;\">\n",
       "      <th></th>\n",
       "      <th>answer</th>\n",
       "      <th>id</th>\n",
       "      <th>question</th>\n",
       "      <th>relevance</th>\n",
       "      <th>explanation</th>\n",
       "    </tr>\n",
       "  </thead>\n",
       "  <tbody>\n",
       "    <tr>\n",
       "      <th>49</th>\n",
       "      <td>It runs through Vestland and Innlandet counties.</td>\n",
       "      <td>98</td>\n",
       "      <td>Which counties does Rallarvegen run through?</td>\n",
       "      <td>NON_RELEVANT</td>\n",
       "      <td>The generated answer is incorrect. Rallarvegen...</td>\n",
       "    </tr>\n",
       "    <tr>\n",
       "      <th>64</th>\n",
       "      <td>Runde Bird Island is located in Vestland county.</td>\n",
       "      <td>148</td>\n",
       "      <td>Which county is Runde Bird Island located in?</td>\n",
       "      <td>NON_RELEVANT</td>\n",
       "      <td>The generated answer names Vestland county, wh...</td>\n",
       "    </tr>\n",
       "    <tr>\n",
       "      <th>68</th>\n",
       "      <td>Vestland.</td>\n",
       "      <td>120</td>\n",
       "      <td>In which county is Vangskyrkja located?</td>\n",
       "      <td>NON_RELEVANT</td>\n",
       "      <td>The answer 'Vestland' is incorrect. Vangskyrkj...</td>\n",
       "    </tr>\n",
       "  </tbody>\n",
       "</table>\n",
       "</div>"
      ],
      "text/plain": [
       "                                              answer   id  \\\n",
       "49  It runs through Vestland and Innlandet counties.   98   \n",
       "64  Runde Bird Island is located in Vestland county.  148   \n",
       "68                                         Vestland.  120   \n",
       "\n",
       "                                         question     relevance  \\\n",
       "49   Which counties does Rallarvegen run through?  NON_RELEVANT   \n",
       "64  Which county is Runde Bird Island located in?  NON_RELEVANT   \n",
       "68        In which county is Vangskyrkja located?  NON_RELEVANT   \n",
       "\n",
       "                                          explanation  \n",
       "49  The generated answer is incorrect. Rallarvegen...  \n",
       "64  The generated answer names Vestland county, wh...  \n",
       "68  The answer 'Vestland' is incorrect. Vangskyrkj...  "
      ]
     },
     "execution_count": 93,
     "metadata": {},
     "output_type": "execute_result"
    }
   ],
   "source": [
    "df_eval[df_eval.relevance == 'NON_RELEVANT']"
   ]
  },
  {
   "cell_type": "code",
   "execution_count": null,
   "id": "cfca6138",
   "metadata": {},
   "outputs": [],
   "source": []
  }
 ],
 "metadata": {
  "kernelspec": {
   "display_name": "Python 3",
   "language": "python",
   "name": "python3"
  },
  "language_info": {
   "codemirror_mode": {
    "name": "ipython",
    "version": 3
   },
   "file_extension": ".py",
   "mimetype": "text/x-python",
   "name": "python",
   "nbconvert_exporter": "python",
   "pygments_lexer": "ipython3",
   "version": "3.12.1"
  }
 },
 "nbformat": 4,
 "nbformat_minor": 5
}
